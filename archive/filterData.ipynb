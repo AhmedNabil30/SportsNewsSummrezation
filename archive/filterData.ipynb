{
 "cells": [
  {
   "cell_type": "code",
   "execution_count": 3,
   "metadata": {},
   "outputs": [],
   "source": [
    "import pandas as pd \n",
    "def load_dataset(dataset_path):\n",
    "    df = pd.read_csv(dataset_path)\n",
    "    # Drop id column\n",
    "    df.drop(columns=['id'],inplace=True)\n",
    "    # Drop null values (if any)\n",
    "    df.dropna(inplace=True)\n",
    "    print(\"Number of records:\",len(df))\n",
    "    return df"
   ]
  },
  {
   "cell_type": "code",
   "execution_count": null,
   "metadata": {},
   "outputs": [],
   "source": [
    "df_train = load_dataset('C:/Users/ahmednabil/Documents/Downloads/data/train.csv')\n",
    "df_train.head() "
   ]
  },
  {
   "cell_type": "code",
   "execution_count": null,
   "metadata": {},
   "outputs": [],
   "source": [
    "df_train['article'] = df_train['article'].str.lower()\n",
    "df_train['highlights'] = df_train['highlights'].str.lower()\n"
   ]
  },
  {
   "cell_type": "code",
   "execution_count": null,
   "metadata": {},
   "outputs": [],
   "source": [
    "import string\n",
    "    \n",
    "def remove_punctuation(text):\n",
    "    return text.translate(str.maketrans('', '', string.punctuation))\n",
    "\n",
    "df_train['article'] = df_train['article'].apply(remove_punctuation)\n",
    "df_train['highlights'] = df_train['highlights'].apply(remove_punctuation)\n"
   ]
  },
  {
   "cell_type": "code",
   "execution_count": null,
   "metadata": {},
   "outputs": [],
   "source": [
    "from nltk.tokenize import word_tokenize\n",
    "\n",
    "df_train['article'] = df_train['article'].apply(word_tokenize)\n",
    "df_train['highlights'] = df_train['highlights'].apply(word_tokenize)\n"
   ]
  },
  {
   "cell_type": "code",
   "execution_count": null,
   "metadata": {},
   "outputs": [],
   "source": [
    "from nltk.corpus import stopwords\n",
    "\n",
    "stop_words = set(stopwords.words('english'))\n",
    "\n",
    "def remove_stopwords(tokens):\n",
    "    return [token for token in tokens if token not in stop_words]\n",
    "\n",
    "df_train['article'] = df_train['article'].apply(remove_stopwords)\n",
    "df_train['highlights'] = df_train['highlights'].apply(remove_stopwords)\n"
   ]
  },
  {
   "cell_type": "code",
   "execution_count": null,
   "metadata": {},
   "outputs": [],
   "source": [
    "import nltk\n",
    "from nltk.stem import WordNetLemmatizer\n",
    "\n",
    "lemmatizer = WordNetLemmatizer()\n",
    "\n",
    "def lemmatize(tokens):\n",
    "    return [lemmatizer.lemmatize(token) for token in tokens]\n",
    "\n",
    "df_train['article'] = df_train['article'].apply(lemmatize)\n",
    "df_train['highlights'] = df_train['highlights'].apply(lemmatize)\n"
   ]
  },
  {
   "cell_type": "code",
   "execution_count": null,
   "metadata": {},
   "outputs": [],
   "source": [
    "from sklearn.feature_extraction.text import TfidfVectorizer\n",
    "from sklearn.decomposition import LatentDirichletAllocation\n",
    "\n",
    "\n",
    "# Concatenate the articles and highlights for topic modeling\n",
    "corpus = df_train['article'].apply(lambda x: ' '.join(x)) + df_train['highlights'].apply(lambda x: ' '.join(x))\n",
    "\n",
    "# Convert the text data to a TF-IDF matrix\n",
    "tfidf_vectorizer = TfidfVectorizer(max_df=0.95, min_df=2, stop_words='english')\n",
    "tfidf_matrix = tfidf_vectorizer.fit_transform(corpus)\n",
    "\n",
    "# Apply Latent Dirichlet Allocation (LDA) for topic modeling\n",
    "num_topics = 3  # You can adjust this based on your needs\n",
    "lda = LatentDirichletAllocation(n_components=num_topics, random_state=42)\n",
    "lda.fit(tfidf_matrix)\n",
    "\n",
    "# Assign topics to documents\n",
    "df_train['topic'] = lda.transform(tfidf_matrix).argmax(axis=1)\n",
    "\n",
    "# Display the topics assigned to each document\n",
    "print(df_train[['article', 'highlights', 'topic']].head())\n"
   ]
  },
  {
   "cell_type": "code",
   "execution_count": null,
   "metadata": {},
   "outputs": [],
   "source": [
    "pip install openpyxl"
   ]
  },
  {
   "cell_type": "code",
   "execution_count": 2,
   "metadata": {},
   "outputs": [
    {
     "ename": "NameError",
     "evalue": "name 'df_train' is not defined",
     "output_type": "error",
     "traceback": [
      "\u001b[1;31m---------------------------------------------------------------------------\u001b[0m",
      "\u001b[1;31mNameError\u001b[0m                                 Traceback (most recent call last)",
      "Cell \u001b[1;32mIn[2], line 10\u001b[0m\n\u001b[0;32m      1\u001b[0m \u001b[38;5;66;03m# Select rows where the topic is 2\u001b[39;00m\n\u001b[0;32m      2\u001b[0m \u001b[38;5;66;03m# df_topic_2 = df_train[df_train['topic'] == 2].copy()\u001b[39;00m\n\u001b[0;32m      3\u001b[0m \n\u001b[1;32m   (...)\u001b[0m\n\u001b[0;32m      7\u001b[0m \n\u001b[0;32m      8\u001b[0m \u001b[38;5;66;03m# Save the DataFrame to a new Excel file\u001b[39;00m\n\u001b[0;32m      9\u001b[0m output_path \u001b[38;5;241m=\u001b[39m \u001b[38;5;124m'\u001b[39m\u001b[38;5;124mD:\u001b[39m\u001b[38;5;124m\\\u001b[39m\u001b[38;5;124mdataaa\u001b[39m\u001b[38;5;124m\\\u001b[39m\u001b[38;5;124mTopicModel.xlsx\u001b[39m\u001b[38;5;124m'\u001b[39m\n\u001b[1;32m---> 10\u001b[0m \u001b[43mdf_train\u001b[49m\u001b[38;5;241m.\u001b[39mto_excel(output_path, index\u001b[38;5;241m=\u001b[39m\u001b[38;5;28;01mFalse\u001b[39;00m)\n",
      "\u001b[1;31mNameError\u001b[0m: name 'df_train' is not defined"
     ]
    }
   ],
   "source": [
    "\n",
    "# Select rows where the topic is 2\n",
    "# df_topic_2 = df_train[df_train['topic'] == 2].copy()\n",
    "\n",
    "# # Convert the tokenized articles and highlights back to strings\n",
    "# df_topic_2['article'] = df_topic_2['article'].apply(lambda tokens: ' '.join(tokens))\n",
    "# df_topic_2['highlights'] = df_topic_2['highlights'].apply(lambda tokens: ' '.join(tokens))\n",
    "\n",
    "# Save the DataFrame to a new Excel file\n",
    "output_path = 'D:\\dataaa\\TopicModel.xlsx'\n",
    "df_train.to_excel(output_path, index=False)\n"
   ]
  },
  {
   "cell_type": "code",
   "execution_count": null,
   "metadata": {},
   "outputs": [],
   "source": []
  }
 ],
 "metadata": {
  "kernelspec": {
   "display_name": "Python 3",
   "language": "python",
   "name": "python3"
  },
  "language_info": {
   "codemirror_mode": {
    "name": "ipython",
    "version": 3
   },
   "file_extension": ".py",
   "mimetype": "text/x-python",
   "name": "python",
   "nbconvert_exporter": "python",
   "pygments_lexer": "ipython3",
   "version": "3.11.3"
  }
 },
 "nbformat": 4,
 "nbformat_minor": 2
}
